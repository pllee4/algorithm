{
 "cells": [
  {
   "cell_type": "markdown",
   "metadata": {},
   "source": [
    "# Butterworth\n",
    "\n",
    "* The step for implementation is based on article \n",
    "  * [Butterworth filter](https://www.dsprelated.com/showarticle/1119.php)\n",
    "\n",
    "  * [Highpass filters](https://www.dsprelated.com/showarticle/1135.php)\n",
    "\n",
    "* Some important equations and steps from the article  shown as below"
   ]
  },
  {
   "cell_type": "markdown",
   "metadata": {},
   "source": [
    "## Bilinear transform\n",
    "\n",
    "- Convert H(s) to H(z)\n",
    "  \n",
    "\\begin{equation*}\n",
    "s = 2f_s \\frac{1 - z^{-1}}{1 + z^{-1}}\n",
    "\\end{equation*}\n",
    "\n",
    "\\begin{equation*}\n",
    "z = \\frac{1 + s / (2f_s)}{1 - s / (2f_s)}\n",
    "\\end{equation*}"
   ]
  },
  {
   "cell_type": "markdown",
   "metadata": {},
   "source": [
    "## Filter synthesis\n",
    "\n",
    "### Example steps for low pass filter\n",
    "1. Find the poles of the analog prototype filter with $\\Omega_{c}$ = 1 rad/s\n",
    "2. Find the corresponding analog frequency $F_c$. based on desired $f_c$\n",
    "3. Scale the s-plane poles by $2πF_c$.\n",
    "4. Transform the poles from the s-plane to the z-plane.\n",
    "5. Add N zeros at z = -1.\n",
    "6. Convert poles and zeros to polynomials with coefficients $a_n$ and $b_n$"
   ]
  },
  {
   "cell_type": "markdown",
   "metadata": {},
   "source": [
    "1.\n",
    "\\begin{equation*}\n",
    "p_{ak} = -\\sin(\\theta) + j\\cos(\\theta)\n",
    "\\end{equation*}\n",
    "where\n",
    "\\begin{equation*}\n",
    "\\theta = \\frac{(2k-1)\\pi}{2N}\n",
    "\\end{equation*}"
   ]
  },
  {
   "cell_type": "markdown",
   "metadata": {},
   "source": [
    "2.\n",
    "\\begin{equation*}\n",
    "F_c = \\frac{f_s}{\\pi} \\tan(\\frac{\\pi f_c}{f_s})\n",
    "\\end{equation*}"
   ]
  },
  {
   "cell_type": "markdown",
   "metadata": {},
   "source": [
    "."
   ]
  },
  {
   "cell_type": "markdown",
   "metadata": {},
   "source": [
    "4.\n",
    "\\begin{equation*}\n",
    "p_k = \\frac{1 + p_{ak} / (2f_s)}{1 - p_{ak} / (2f_s)}, k = 1: N\n",
    "\\end{equation*}"
   ]
  },
  {
   "cell_type": "markdown",
   "metadata": {},
   "source": [
    "5. Add N zeros at z = -1\n",
    "\n",
    "\\begin{equation*}\n",
    "H(z) = K \\frac{(z + 1) ^ N} {(z - p_0)(z-p_1)...(z - p_{N - 1})}\n",
    "\\end{equation*}"
   ]
  }
 ],
 "metadata": {
  "language_info": {
   "name": "python"
  },
  "orig_nbformat": 4
 },
 "nbformat": 4,
 "nbformat_minor": 2
}
